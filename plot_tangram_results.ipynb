{
 "cells": [
  {
   "cell_type": "code",
   "execution_count": null,
   "id": "50ce8d1e",
   "metadata": {},
   "outputs": [],
   "source": [
    "import os, sys\n",
    "import numpy as np\n",
    "import pandas as pd\n",
    "import matplotlib\n",
    "import matplotlib.pyplot as plt\n",
    "from matplotlib.gridspec import GridSpec\n",
    "import seaborn as sns\n",
    "import scanpy as sc\n",
    "import torch\n",
    "import scipy\n",
    "sys.path.append('./')  # uncomment for local import\n",
    "import tangram as tg\n",
    "from functions_for_tangram import *\n",
    "%load_ext autoreload\n",
    "%autoreload 2\n",
    "%matplotlib inline\n",
    "\n",
    "tg.__version__"
   ]
  },
  {
   "cell_type": "code",
   "execution_count": null,
   "id": "77975729",
   "metadata": {},
   "outputs": [],
   "source": [
    "sc.settings.set_figure_params(dpi=300, facecolor='white')"
   ]
  },
  {
   "cell_type": "code",
   "execution_count": null,
   "id": "f5645ce2",
   "metadata": {},
   "outputs": [],
   "source": [
    "ad_sp_sham = sc.read(\"ad_sp_sham.h5ad\")\n",
    "ad_ge_sham= sc.read(\"ad_ge_sham.h5ad\")\n",
    "ad_map_sham = sc.read(\"ad_map_sham.h5ad\")\n",
    "ad_ge_sham.obsm = ad_sp_sham.obsm\n",
    "ad_ge_sham.uns = ad_sp_sham.uns\n",
    "tg.project_cell_annotations(ad_map_sham, ad_sp_sham, annotation='subclass_label')"
   ]
  },
  {
   "cell_type": "code",
   "execution_count": null,
   "id": "6a08be68",
   "metadata": {},
   "outputs": [],
   "source": [
    "ad_sp_4h = sc.read(\"ad_sp_4h.h5ad\")\n",
    "ad_ge_4h= sc.read(\"ad_ge_4h.h5ad\")\n",
    "ad_map_4h = sc.read(\"ad_map_4h.h5ad\")\n",
    "ad_ge_4h.obsm = ad_sp_4h.obsm\n",
    "ad_ge_4h.uns = ad_sp_4h.uns\n",
    "tg.project_cell_annotations(ad_map_4h, ad_sp_4h, annotation='subclass_label')"
   ]
  },
  {
   "cell_type": "code",
   "execution_count": null,
   "id": "5ffba080",
   "metadata": {},
   "outputs": [],
   "source": [
    "ad_sp_12h = sc.read(\"ad_sp_12h.h5ad\")\n",
    "ad_ge_12h= sc.read(\"ad_ge_12h.h5ad\")\n",
    "ad_map_12h = sc.read(\"ad_map_12h.h5ad\")\n",
    "ad_ge_12h.obsm = ad_sp_12h.obsm\n",
    "ad_ge_12h.uns = ad_sp_12h.uns\n",
    "tg.project_cell_annotations(ad_map_12h, ad_sp_12h, annotation='subclass_label')"
   ]
  },
  {
   "cell_type": "code",
   "execution_count": null,
   "id": "16817e93",
   "metadata": {},
   "outputs": [],
   "source": [
    "ad_sp_2d = sc.read(\"ad_sp_2d.h5ad\")\n",
    "ad_ge_2d= sc.read(\"ad_ge_2d.h5ad\")\n",
    "ad_map_2d = sc.read(\"ad_map_2d.h5ad\")\n",
    "ad_ge_2d.obsm = ad_sp_2d.obsm\n",
    "ad_ge_2d.uns = ad_sp_2d.uns\n",
    "tg.project_cell_annotations(ad_map_2d, ad_sp_2d, annotation='subclass_label')"
   ]
  },
  {
   "cell_type": "code",
   "execution_count": null,
   "id": "a0075a93",
   "metadata": {},
   "outputs": [],
   "source": [
    "ad_sp_6w = sc.read(\"ad_sp_6w.h5ad\")\n",
    "ad_ge_6w= sc.read(\"ad_ge_6w.h5ad\")\n",
    "ad_map_6w = sc.read(\"ad_map_6w.h5ad\")\n",
    "ad_ge_6w.obsm = ad_sp_6w.obsm\n",
    "ad_ge_6w.uns = ad_sp_6w.uns\n",
    "tg.project_cell_annotations(ad_map_6w, ad_sp_6w, annotation='subclass_label')"
   ]
  },
  {
   "cell_type": "code",
   "execution_count": null,
   "id": "a6a0b79c",
   "metadata": {},
   "outputs": [],
   "source": [
    "plot_cell_score_timepoints(adata_sp_list=[ad_sp_sham,ad_sp_4h,ad_sp_12h,ad_sp_2d,ad_sp_6w],\n",
    "                           celltypes=['NewPT1','NewPT2'],\n",
    "                           cmap=\"magma_r\", \n",
    "                           order_cell=True,\n",
    "                           perc = 0.0001\n",
    "                          )"
   ]
  },
  {
   "cell_type": "code",
   "execution_count": null,
   "id": "310ae0f0",
   "metadata": {},
   "outputs": [],
   "source": [
    "plot_cell_annotation_score(ad_sp_sham, ['NewPT1'],x='x', y='y',spot_size= 150, scale_factor=2,perc=0.02, cmap=\"magma_r\")"
   ]
  },
  {
   "cell_type": "code",
   "execution_count": null,
   "id": "4c3dad8c",
   "metadata": {},
   "outputs": [],
   "source": [
    "plot_umap_celltype(ad_sp_2d, color='predicted_celltype', size=4, groups=('NewPT1'), palette=\"tab20_r\")"
   ]
  },
  {
   "cell_type": "code",
   "execution_count": null,
   "id": "c4d3e796",
   "metadata": {},
   "outputs": [],
   "source": [
    "plot_genes_timepoints_measured(genes=['krt20','spp1','hdc','fbxl13'], \n",
    "                      adata_list=[ad_sp_sham, ad_sp_4h, ad_sp_12h, ad_sp_2d, ad_sp_6w], \n",
    "                      perc=0.01, \n",
    "                      cmap='magma_r')"
   ]
  },
  {
   "cell_type": "code",
   "execution_count": null,
   "id": "ab1463cd",
   "metadata": {},
   "outputs": [],
   "source": [
    "# genes that are included in the cartana probe list\n",
    "plot_genes_timepoints(genes=['slc12a1','havcr1'], \n",
    "                      adata_list=[ad_ge_sham, ad_ge_4h, ad_ge_12h, ad_ge_2d, ad_ge_6w], \n",
    "                      perc=0.001, cmap='magma_r')"
   ]
  },
  {
   "cell_type": "code",
   "execution_count": null,
   "id": "1c9a4c97",
   "metadata": {},
   "outputs": [],
   "source": [
    "plot_genes_timepoints(genes=['foxm1','kcnh8'], \n",
    "                      adata_list=[ad_ge_sham, ad_ge_4h, ad_ge_12h, ad_ge_2d, ad_ge_6w], \n",
    "                      perc=0.0001, \n",
    "                      cmap='magma_r')"
   ]
  },
  {
   "cell_type": "code",
   "execution_count": null,
   "id": "71b24272",
   "metadata": {},
   "outputs": [],
   "source": [
    "plot_genes_timepoints(genes=['cubn','slc34a1'], \n",
    "                      adata_list=[ad_ge_sham, ad_ge_4h, ad_ge_12h, ad_ge_2d, ad_ge_6w], \n",
    "                      perc=0.01, \n",
    "                      cmap='magma_r')"
   ]
  },
  {
   "cell_type": "code",
   "execution_count": null,
   "id": "5eabee66",
   "metadata": {},
   "outputs": [],
   "source": [
    "plot_genes_timepoints(genes=['krt20','spp1','hdc','fbxl13'], \n",
    "                      adata_list=[ad_ge_sham, ad_ge_4h, ad_ge_12h, ad_ge_2d, ad_ge_6w], \n",
    "                      perc=0.01, \n",
    "                      cmap='magma_r')"
   ]
  },
  {
   "cell_type": "code",
   "execution_count": null,
   "id": "8ce96f9e",
   "metadata": {},
   "outputs": [],
   "source": [
    "plot_genes_timepoints(genes=['gbe1','rtn4','krt20','prrg4'], \n",
    "                      adata_list=[ad_ge_sham, ad_ge_4h, ad_ge_12h, ad_ge_2d, ad_ge_6w], \n",
    "                      perc=0.01, \n",
    "                      cmap='magma_r')"
   ]
  },
  {
   "cell_type": "code",
   "execution_count": null,
   "id": "8c84b032",
   "metadata": {},
   "outputs": [],
   "source": [
    "plot_genes_timepoints(genes=['sult1a1','phyh','spink6','uap1'], \n",
    "                      adata_list=[ad_ge_sham, ad_ge_4h, ad_ge_12h, ad_ge_2d, ad_ge_6w], \n",
    "                      perc=0.01, \n",
    "                      cmap='magma_r')"
   ]
  },
  {
   "cell_type": "code",
   "execution_count": null,
   "id": "3b736ace",
   "metadata": {},
   "outputs": [],
   "source": [
    "plot_genes_predicted([\"vcam1\"], ad_ge_sham, spot_size=150, perc=0.002)"
   ]
  }
 ],
 "metadata": {
  "kernelspec": {
   "display_name": "Python [conda env:tangram-env] *",
   "language": "python",
   "name": "conda-env-tangram-env-py"
  },
  "language_info": {
   "codemirror_mode": {
    "name": "ipython",
    "version": 3
   },
   "file_extension": ".py",
   "mimetype": "text/x-python",
   "name": "python",
   "nbconvert_exporter": "python",
   "pygments_lexer": "ipython3",
   "version": "3.8.13"
  }
 },
 "nbformat": 4,
 "nbformat_minor": 5
}
